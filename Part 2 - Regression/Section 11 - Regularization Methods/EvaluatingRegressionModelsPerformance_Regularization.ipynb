{
 "cells": [
  {
   "cell_type": "code",
   "execution_count": 1,
   "metadata": {},
   "outputs": [],
   "source": [
    "from IPython.display import display, Math, Latex"
   ]
  },
  {
   "cell_type": "markdown",
   "metadata": {},
   "source": [
    "- R-Squared\n",
    "    + Sum of squares of residuals:\n",
    "    $$\n",
    "    SS_{res}=\\sum_i (y_{i}-\\hat{y}_{i})^2 \\rightarrow min\n",
    "    $$\n",
    "    + Total sum of squares:\n",
    "    $$\n",
    "    SS_{tot}=\\sum_i (y_{i}-y_{avg})^2 \n",
    "    $$\n",
    "    \n",
    "    $\\rightarrow R^2 = 1 - \\dfrac{SS_{res}}{SS_{tot}}  $\n",
    "    \n",
    "    $R^2$ tells us how good is your line compared to the average line, the goodness of fit. The closer R-squared is to 1 the better. The more variables added, the greater $R^2$ gets"
   ]
  },
  {
   "cell_type": "markdown",
   "metadata": {},
   "source": [
    "- Adjusted R-Squared\n",
    "$$\n",
    "\\text{Adj }R^2 =  1 - (1-R^2)\\dfrac{n-1}{n-p-1}\n",
    "$$\n",
    "\n",
    "    $p$ -  number of regressors (independent variables)\n",
    "\n",
    "    $n$ - sample size\n",
    "    \n",
    "  Add good variable -> Adj $R^2$ inscrease \n",
    "  \n",
    "  Add bad variable -> Adj $R^2$ descrease\n",
    "  \n",
    "  Adj R-Squared is very similar to R-Squared but it actually has a penalization factor"
   ]
  },
  {
   "cell_type": "code",
   "execution_count": null,
   "metadata": {},
   "outputs": [],
   "source": []
  }
 ],
 "metadata": {
  "kernelspec": {
   "display_name": "Python 3",
   "language": "python",
   "name": "python3"
  },
  "language_info": {
   "codemirror_mode": {
    "name": "ipython",
    "version": 3
   },
   "file_extension": ".py",
   "mimetype": "text/x-python",
   "name": "python",
   "nbconvert_exporter": "python",
   "pygments_lexer": "ipython3",
   "version": "3.6.5"
  }
 },
 "nbformat": 4,
 "nbformat_minor": 2
}
